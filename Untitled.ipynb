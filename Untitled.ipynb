{
 "cells": [
  {
   "cell_type": "code",
   "execution_count": 4,
   "id": "a81533bb",
   "metadata": {},
   "outputs": [
    {
     "name": "stderr",
     "output_type": "stream",
     "text": [
      "also installing the dependencies ‘bitops’, ‘RCurl’, ‘png’, ‘jpeg’, ‘gridtext’\n",
      "\n",
      "\n",
      "Warning message in utils::install.packages(package, ...):\n",
      "“installation of package ‘bitops’ had non-zero exit status”\n",
      "Warning message in utils::install.packages(package, ...):\n",
      "“installation of package ‘png’ had non-zero exit status”\n",
      "Warning message in utils::install.packages(package, ...):\n",
      "“installation of package ‘jpeg’ had non-zero exit status”\n",
      "Warning message in utils::install.packages(package, ...):\n",
      "“installation of package ‘RCurl’ had non-zero exit status”\n",
      "Warning message in utils::install.packages(package, ...):\n",
      "“installation of package ‘gridtext’ had non-zero exit status”\n",
      "Warning message in utils::install.packages(package, ...):\n",
      "“installation of package ‘ggtext’ had non-zero exit status”\n",
      "Updating HTML index of packages in '.Library'\n",
      "\n",
      "Making 'packages.html' ...\n",
      " done\n",
      "\n",
      "Warning message in p_install(package, character.only = TRUE, ...):\n",
      "“”\n",
      "Warning message in library(package, lib.loc = lib.loc, character.only = TRUE, logical.return = TRUE, :\n",
      "“there is no package called ‘ggtext’”\n",
      "Warning message in pacman::p_load(\"tidyverse\", \"ggtext\", \"here\", \"lubridate\"):\n",
      "“Failed to install/load:\n",
      "ggtext”\n"
     ]
    }
   ],
   "source": [
    "pacman::p_load(\"tidyverse\", \"ggtext\", \"here\", \"lubridate\")\n"
   ]
  },
  {
   "cell_type": "code",
   "execution_count": 3,
   "id": "d4622200",
   "metadata": {},
   "outputs": [
    {
     "ename": "ERROR",
     "evalue": "Error in library(ggtext): there is no package called ‘ggtext’\n",
     "output_type": "error",
     "traceback": [
      "Error in library(ggtext): there is no package called ‘ggtext’\nTraceback:\n",
      "1. library(ggtext)"
     ]
    }
   ],
   "source": [
    "library(tidyverse)\n",
    "library(ggtext)\n",
    "library(here)\n",
    "library(lubridate)"
   ]
  },
  {
   "cell_type": "code",
   "execution_count": null,
   "id": "12906bae",
   "metadata": {},
   "outputs": [],
   "source": []
  }
 ],
 "metadata": {
  "kernelspec": {
   "display_name": "R",
   "language": "R",
   "name": "ir"
  },
  "language_info": {
   "codemirror_mode": "r",
   "file_extension": ".r",
   "mimetype": "text/x-r-source",
   "name": "R",
   "pygments_lexer": "r",
   "version": "4.0.5"
  }
 },
 "nbformat": 4,
 "nbformat_minor": 5
}
